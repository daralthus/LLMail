{
 "cells": [
  {
   "cell_type": "code",
   "execution_count": 10,
   "metadata": {},
   "outputs": [],
   "source": [
    "import os\n",
    "import sys\n",
    "sys.path.append(os.path.abspath(os.path.join('../..')))"
   ]
  },
  {
   "cell_type": "code",
   "execution_count": 11,
   "metadata": {},
   "outputs": [
    {
     "data": {
      "text/plain": [
       "True"
      ]
     },
     "execution_count": 11,
     "metadata": {},
     "output_type": "execute_result"
    }
   ],
   "source": [
    "from dotenv import load_dotenv\n",
    "load_dotenv('../../.env')"
   ]
  },
  {
   "cell_type": "code",
   "execution_count": 12,
   "metadata": {},
   "outputs": [],
   "source": [
    "from llama_cpp import Llama, LlamaGrammar\n",
    "from llmail.connectors.imap import Inbox\n",
    "import os"
   ]
  },
  {
   "cell_type": "code",
   "execution_count": 31,
   "metadata": {},
   "outputs": [
    {
     "name": "stderr",
     "output_type": "stream",
     "text": [
      "llama.cpp: loading model from ../models/llama-2-7b-chat.ggmlv3.q2_K.bin\n"
     ]
    },
    {
     "name": "stderr",
     "output_type": "stream",
     "text": [
      "llama_model_load_internal: format     = ggjt v3 (latest)\n",
      "llama_model_load_internal: n_vocab    = 32000\n",
      "llama_model_load_internal: n_ctx      = 512\n",
      "llama_model_load_internal: n_embd     = 4096\n",
      "llama_model_load_internal: n_mult     = 256\n",
      "llama_model_load_internal: n_head     = 32\n",
      "llama_model_load_internal: n_head_kv  = 32\n",
      "llama_model_load_internal: n_layer    = 32\n",
      "llama_model_load_internal: n_rot      = 128\n",
      "llama_model_load_internal: n_gqa      = 1\n",
      "llama_model_load_internal: rnorm_eps  = 5.0e-06\n",
      "llama_model_load_internal: n_ff       = 11008\n",
      "llama_model_load_internal: freq_base  = 10000.0\n",
      "llama_model_load_internal: freq_scale = 1\n",
      "llama_model_load_internal: ftype      = 10 (mostly Q2_K)\n",
      "llama_model_load_internal: model size = 7B\n",
      "llama_model_load_internal: ggml ctx size =    0.08 MB\n",
      "llama_model_load_internal: mem required  = 2733.66 MB (+  256.00 MB per state)\n",
      "llama_new_context_with_model: kv self size  =  256.00 MB\n",
      "llama_new_context_with_model: compute buffer total size =   71.84 MB\n",
      "AVX = 1 | AVX2 = 1 | AVX512 = 0 | AVX512_VBMI = 0 | AVX512_VNNI = 0 | FMA = 1 | NEON = 0 | ARM_FMA = 0 | F16C = 1 | FP16_VA = 0 | WASM_SIMD = 0 | BLAS = 1 | SSE3 = 1 | VSX = 0 | \n"
     ]
    }
   ],
   "source": [
    "# Initialize Llama and Inbox\n",
    "llm = Llama(model_path=\"../models/llama-2-7b-chat.ggmlv3.q2_K.bin\")"
   ]
  },
  {
   "cell_type": "code",
   "execution_count": 41,
   "metadata": {},
   "outputs": [],
   "source": [
    "username = os.getenv(\"MAIL_USER\")\n",
    "password = os.getenv(\"MAIL_PASS\")\n",
    "inbox = Inbox(username, password)"
   ]
  },
  {
   "cell_type": "code",
   "execution_count": 42,
   "metadata": {},
   "outputs": [],
   "source": [
    "# Fetch the latest email\n",
    "latest_emails = inbox.fetch_latest(10)\n",
    "latest_email = latest_emails[0]"
   ]
  },
  {
   "cell_type": "code",
   "execution_count": 43,
   "metadata": {},
   "outputs": [
    {
     "data": {
      "text/plain": [
       "'New Course: Learn to finetune large language models'"
      ]
     },
     "execution_count": 43,
     "metadata": {},
     "output_type": "execute_result"
    }
   ],
   "source": [
    "latest_email = latest_emails[1]\n",
    "latest_email[\"subject\"]"
   ]
  },
  {
   "cell_type": "code",
   "execution_count": 44,
   "metadata": {},
   "outputs": [],
   "source": [
    "# Combine email with a prompt\n",
    "prompt = f\"Q: Is this a recruitment email: 'YES' or 'NO'? Email: {latest_email['subject']} A:\""
   ]
  },
  {
   "attachments": {},
   "cell_type": "markdown",
   "metadata": {},
   "source": [
    "via the server: \n",
    "(run the openai compatible server with `python3 -m llama_cpp.server --model ./llmail/models/llama-2-13b-chat.ggmlv3.q4_0.bin`)"
   ]
  },
  {
   "cell_type": "code",
   "execution_count": 50,
   "metadata": {},
   "outputs": [
    {
     "name": "stdout",
     "output_type": "stream",
     "text": [
      "{'id': 'chatcmpl-c52856aa-95bc-40b1-ab81-0ca35b5ca33b', 'object': 'chat.completion', 'created': 1692821319, 'model': './llmail/models/llama-2-13b-chat.ggmlv3.q4_0.bin', 'choices': [{'index': 0, 'message': {'role': 'assistant', 'content': ' This is not a recruitment email. It is an announcement about a'}, 'finish_reason': 'length'}], 'usage': {'prompt_tokens': 44, 'completion_tokens': 16, 'total_tokens': 60}}\n"
     ]
    }
   ],
   "source": [
    "import requests\n",
    "import json\n",
    "\n",
    "# Prepare the data\n",
    "data = {\n",
    "    \"messages\": [{\"role\": \"user\", \"content\": prompt}]\n",
    "}\n",
    "\n",
    "# Make the POST request\n",
    "response = requests.post(\n",
    "    \"http://localhost:8000/v1/chat/completions\",\n",
    "    headers={\"Content-Type\": \"application/json\"},\n",
    "    data=json.dumps(data)\n",
    ")\n",
    "\n",
    "# Print the response\n",
    "print(response.json())\n"
   ]
  },
  {
   "attachments": {},
   "cell_type": "markdown",
   "metadata": {},
   "source": [
    "via python:"
   ]
  },
  {
   "cell_type": "code",
   "execution_count": 47,
   "metadata": {},
   "outputs": [
    {
     "name": "stderr",
     "output_type": "stream",
     "text": [
      "Llama.generate: prefix-match hit\n"
     ]
    },
    {
     "name": "stderr",
     "output_type": "stream",
     "text": [
      "\n",
      "llama_print_timings:        load time = 41719.22 ms\n",
      "llama_print_timings:      sample time =   265.36 ms /    31 runs   (    8.56 ms per token,   116.82 tokens per second)\n",
      "llama_print_timings: prompt eval time =     0.00 ms /     1 tokens (    0.00 ms per token,      inf tokens per second)\n",
      "llama_print_timings:        eval time = 53456.17 ms /    31 runs   ( 1724.39 ms per token,     0.58 tokens per second)\n",
      "llama_print_timings:       total time = 54658.64 ms\n"
     ]
    }
   ],
   "source": [
    "# Call Llama with the prompt\n",
    "output = llm(prompt, max_tokens=32, stop=[\"Q:\", \"\\n\"], echo=True)"
   ]
  },
  {
   "cell_type": "code",
   "execution_count": 48,
   "metadata": {},
   "outputs": [
    {
     "data": {
      "text/plain": [
       "{'id': 'cmpl-6f72ad06-1274-4411-84a9-8ccc79097a39',\n",
       " 'object': 'text_completion',\n",
       " 'created': 1692819151,\n",
       " 'model': '../models/llama-2-7b-chat.ggmlv3.q2_K.bin',\n",
       " 'choices': [{'text': \"Q: Is this a recruitment email: 'YES' or 'NO'? Email: New Course: Learn to finetune large language models A: I would say 'NO' because the email is not specifically about recruiting people for a new course, but rather about a new course offering.\",\n",
       "   'index': 0,\n",
       "   'logprobs': None,\n",
       "   'finish_reason': 'stop'}],\n",
       " 'usage': {'prompt_tokens': 36, 'completion_tokens': 30, 'total_tokens': 66}}"
      ]
     },
     "execution_count": 48,
     "metadata": {},
     "output_type": "execute_result"
    }
   ],
   "source": [
    "output"
   ]
  },
  {
   "attachments": {},
   "cell_type": "markdown",
   "metadata": {},
   "source": [
    "set accepted answer format"
   ]
  },
  {
   "cell_type": "code",
   "execution_count": 24,
   "metadata": {},
   "outputs": [
    {
     "name": "stdout",
     "output_type": "stream",
     "text": [
      "root ::= answer \n",
      "answer ::= [Y] [E] [S] | [N] [O] | [U] [N] [K] [N] [O] [W] [N] \n"
     ]
    },
    {
     "name": "stderr",
     "output_type": "stream",
     "text": [
      "from_string grammar:\n",
      "\n"
     ]
    }
   ],
   "source": [
    "grammar = r'''\n",
    "root ::= answer\n",
    "answer ::= \"YES\" | \"NO\" | \"UNKNOWN\"\n",
    "'''\n",
    "llama_grammar = LlamaGrammar.from_string(grammar)"
   ]
  },
  {
   "cell_type": "code",
   "execution_count": 29,
   "metadata": {},
   "outputs": [
    {
     "name": "stderr",
     "output_type": "stream",
     "text": [
      "Llama.generate: prefix-match hit\n"
     ]
    },
    {
     "name": "stderr",
     "output_type": "stream",
     "text": [
      "\n",
      "llama_print_timings:        load time = 78967.50 ms\n",
      "llama_print_timings:      sample time =    54.36 ms /     2 runs   (   27.18 ms per token,    36.79 tokens per second)\n",
      "llama_print_timings: prompt eval time =     0.00 ms /     1 tokens (    0.00 ms per token,      inf tokens per second)\n",
      "llama_print_timings:        eval time = 11581.72 ms /     2 runs   ( 5790.86 ms per token,     0.17 tokens per second)\n",
      "llama_print_timings:       total time = 11661.64 ms\n"
     ]
    }
   ],
   "source": [
    "output = llm(prompt, max_tokens=32, stop=[\"Q:\", \"\\n\"], echo=False, grammar=llama_grammar)"
   ]
  },
  {
   "cell_type": "code",
   "execution_count": 26,
   "metadata": {},
   "outputs": [
    {
     "data": {
      "text/plain": [
       "{'id': 'cmpl-9b41daf0-33a5-4a4d-83a8-7a51e8630583',\n",
       " 'object': 'text_completion',\n",
       " 'created': 1692816055,\n",
       " 'model': '../models/llama-2-13b-chat.ggmlv3.q4_0.bin',\n",
       " 'choices': [{'text': 'NO',\n",
       "   'index': 0,\n",
       "   'logprobs': None,\n",
       "   'finish_reason': 'stop'}],\n",
       " 'usage': {'prompt_tokens': 36, 'completion_tokens': 1, 'total_tokens': 37}}"
      ]
     },
     "execution_count": 26,
     "metadata": {},
     "output_type": "execute_result"
    }
   ],
   "source": [
    "output"
   ]
  },
  {
   "cell_type": "code",
   "execution_count": null,
   "metadata": {},
   "outputs": [],
   "source": []
  }
 ],
 "metadata": {
  "kernelspec": {
   "display_name": "llmail",
   "language": "python",
   "name": "python3"
  },
  "language_info": {
   "codemirror_mode": {
    "name": "ipython",
    "version": 3
   },
   "file_extension": ".py",
   "mimetype": "text/x-python",
   "name": "python",
   "nbconvert_exporter": "python",
   "pygments_lexer": "ipython3",
   "version": "3.11.4"
  },
  "orig_nbformat": 4
 },
 "nbformat": 4,
 "nbformat_minor": 2
}
